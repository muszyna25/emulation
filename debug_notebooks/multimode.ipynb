{
 "cells": [
  {
   "cell_type": "code",
   "execution_count": null,
   "metadata": {},
   "outputs": [],
   "source": [
    "# Suppress warnings\n",
    "import warnings\n",
    "warnings.simplefilter('ignore')\n",
    "\n",
    "import pyrcel as pm\n",
    "import numpy as np\n",
    "\n",
    "%matplotlib inline\n",
    "import matplotlib.pyplot as plt\n"
   ]
  },
  {
   "cell_type": "code",
   "execution_count": null,
   "metadata": {},
   "outputs": [],
   "source": [
    "P0 = 77500. # Pressure, Pa\n",
    "T0 = 274.   # Temperature, K\n",
    "S0 = -0.02  # Supersaturation, 1-RH (98% here)"
   ]
  },
  {
   "cell_type": "code",
   "execution_count": null,
   "metadata": {},
   "outputs": [],
   "source": [
    "mus = [0.025, 0.005, 0.035, 0.8]\n",
    "sigmas = [2.8, 1.7, 2.2, 2.9]\n",
    "Ns = [950, 850, 500, 600]\n",
    "\n",
    "mus2 = [0.025, 0.005, 0.035, 0.8]\n",
    "sigmas2 = [2.8, 1.7, 2.2, 2.9]\n",
    "Ns2 = [95, 85, 50, 60]\n",
    "\n",
    "mus3 = [0.025, 0.005, 0.035, 0.8]\n",
    "sigmas3 = [2.8, 1.7, 2.2, 2.9]\n",
    "Ns3 = [995, 1385, 2050, 3560]"
   ]
  },
  {
   "cell_type": "code",
   "execution_count": null,
   "metadata": {},
   "outputs": [],
   "source": [
    "setup_multimode_aerosols = {\"species\": \n",
    "                            {\"mus\": {}, \"sigmas\": {}, \"Ns\": {}, \"kappas\": {}}\n",
    "                            }"
   ]
  },
  {
   "cell_type": "code",
   "execution_count": null,
   "metadata": {},
   "outputs": [],
   "source": [
    "aerosol =  pm.AerosolSpecies('sulfate', pm.MultiModeLognorm(mus=mus, sigmas=sigmas , Ns=Ns), kappa=0.45, bins=500)\n",
    "aerosol2 =  pm.AerosolSpecies('sea_salt', pm.MultiModeLognorm(mus=mus2, sigmas=sigmas2 , Ns=Ns2), kappa=1.2, bins=500)\n",
    "aerosol3 =  pm.AerosolSpecies('mos', pm.MultiModeLognorm(mus=mus3, sigmas=sigmas3 , Ns=Ns3), kappa=0.12, bins=500)"
   ]
  },
  {
   "cell_type": "code",
   "execution_count": null,
   "metadata": {},
   "outputs": [],
   "source": [
    "aerosol"
   ]
  },
  {
   "cell_type": "raw",
   "metadata": {},
   "source": [
    "aerosol.Nis"
   ]
  },
  {
   "cell_type": "code",
   "execution_count": null,
   "metadata": {},
   "outputs": [],
   "source": [
    "fig = plt.figure(figsize=(12,6))\n",
    "ax = fig.add_subplot(111)\n",
    "ax.grid(False, \"minor\")\n",
    "\n",
    "ax.bar(aerosol3.rs[:-1], aerosol3.Nis*1e-6, np.diff(aerosol3.rs), color='green', label=\"a mixed mode of small particles\")\n",
    "ax.bar(aerosol.rs[:-1], aerosol.Nis*1e-6, np.diff(aerosol.rs), color='blue', label=\"sulfate\")\n",
    "ax.bar(aerosol2.rs[:-1], aerosol2.Nis*1e-6, np.diff(aerosol2.rs), color='red', label=\"sea salt\")\n",
    "\n",
    "ax.semilogx()\n",
    "ax.set_xlabel(\"Aerosol dry radius, micron\")\n",
    "ax.set_ylabel(\"Aerosl number conc., cm$^{-3}$\")\n",
    "ax.legend(loc='upper right')"
   ]
  },
  {
   "cell_type": "code",
   "execution_count": null,
   "metadata": {},
   "outputs": [],
   "source": [
    "initial_aerosols = [aerosol2, aerosol3]\n",
    "V = 1.0 # updraft speed, m/s\n",
    "\n",
    "dt = 1.0 # timestep, seconds\n",
    "t_end = 250./V # end time, seconds... 250 meter simulation\n",
    "\n",
    "model = pm.ParcelModel(initial_aerosols, V, T0, S0, P0, console=False, accom=0.3)\n",
    "parcel_trace, aerosol_traces = model.run(t_end, dt, solver='cvode')"
   ]
  },
  {
   "cell_type": "code",
   "execution_count": null,
   "metadata": {},
   "outputs": [],
   "source": [
    "fig, [axS, axA] = plt.subplots(1, 2, figsize=(10, 4), sharey=True)\n",
    "\n",
    "axS.plot(parcel_trace['S']*100., parcel_trace['z'], color='k', lw=2)\n",
    "axT = axS.twiny()\n",
    "axT.plot(parcel_trace['T'], parcel_trace['z'], color='r', lw=1.5)\n",
    "\n",
    "#Smax = parcel_trace['S'].max()*100\n",
    "\n",
    "#axS.set_xlim(0, 0.7)\n",
    "#axS.set_ylim(0, 250)\n",
    "\n",
    "#axT.set_xticks([270, 271, 272, 273, 274])\n",
    "axT.xaxis.label.set_color('red')\n",
    "axT.tick_params(axis='x', colors='red')\n",
    "\n",
    "axS.set_xlabel(\"Supersaturation, %\")\n",
    "axT.set_xlabel(\"Temperature, K\")\n",
    "axS.set_ylabel(\"Height, m\")\n",
    "\n",
    "#sulf_array = aerosol_traces['sulfate'].values\n",
    "sulf_array = aerosol_traces['mos'].values\n",
    "sea_array = aerosol_traces['sea_salt'].values\n",
    "\n",
    "ss = axA.plot(sulf_array[:, ::10]*1e6, parcel_trace['z'], color='b', label=\"sulfate\")\n",
    "sa = axA.plot(sea_array*1e6, parcel_trace['z'], color='r', label=\"sea salt\")\n",
    "#axA.semilogx()\n",
    "#axA.set_xlim(1e-2, 10.)\n",
    "#axA.set_xticks([1e-2, 1e-1, 1e0, 1e1], [0.01, 0.1, 1.0, 10.0])\n",
    "axA.legend([ss[0], sa[0]], ['sulfate', 'sea salt'], loc='upper right')\n",
    "axA.set_xlabel(\"Droplet radius, micron\")\n",
    "\n",
    "for ax in [axS, axA, axT]:\n",
    "    ax.grid(False, 'both', 'both')"
   ]
  },
  {
   "cell_type": "markdown",
   "metadata": {},
   "source": [
    "### Dirichlet process mixtures\n",
    "https://pymc3-testing.readthedocs.io/en/rtd-docs/notebooks/dp_mix.html"
   ]
  },
  {
   "cell_type": "code",
   "execution_count": null,
   "metadata": {},
   "outputs": [],
   "source": [
    "import scipy as sp\n",
    "x_plot = np.linspace(-3, 3, 200)\n",
    "\n",
    "N = 5\n",
    "K = 30\n",
    "\n",
    "alpha = 2\n",
    "P0 = sp.stats.norm\n",
    "f = lambda x, theta: sp.stats.norm.pdf(x, theta, 0.3)\n",
    "\n",
    "beta = sp.stats.beta.rvs(1, alpha, size=(N, K))\n",
    "w = np.empty_like(beta)\n",
    "w[:, 0] = beta[:, 0]\n",
    "w[:, 1:] = beta[:, 1:] * (1 - beta[:, :-1]).cumprod(axis=1)\n",
    "\n",
    "theta = P0.rvs(size=(N, K))\n",
    "\n",
    "dpm_pdf_components = f(x_plot[np.newaxis, np.newaxis, :], theta[..., np.newaxis])\n",
    "dpm_pdfs = (w[..., np.newaxis] * dpm_pdf_components).sum(axis=1)"
   ]
  },
  {
   "cell_type": "code",
   "execution_count": null,
   "metadata": {},
   "outputs": [],
   "source": [
    "fig, ax = plt.subplots(figsize=(8, 6))\n",
    "\n",
    "ax.plot(x_plot, dpm_pdfs.T, c='gray');\n",
    "\n",
    "ax.set_yticklabels([]);\n",
    "\n",
    "fig, ax = plt.subplots(figsize=(8, 6))\n",
    "\n",
    "ix = 1\n",
    "\n",
    "ax.plot(x_plot, dpm_pdfs[ix], c='k', label='Density');\n",
    "ax.plot(x_plot, (w[..., np.newaxis] * dpm_pdf_components)[ix, 0],\n",
    "        '--', c='k', label='Mixture components (weighted)');\n",
    "ax.plot(x_plot, (w[..., np.newaxis] * dpm_pdf_components)[ix].T,\n",
    "        '--', c='k');\n",
    "\n",
    "ax.set_yticklabels([]);\n",
    "ax.legend(loc=1);"
   ]
  }
 ],
 "metadata": {
  "kernelspec": {
   "display_name": "gp_emu_test",
   "language": "python",
   "name": "python3"
  },
  "language_info": {
   "codemirror_mode": {
    "name": "ipython",
    "version": 3
   },
   "file_extension": ".py",
   "mimetype": "text/x-python",
   "name": "python",
   "nbconvert_exporter": "python",
   "pygments_lexer": "ipython3",
   "version": "3.10.13"
  }
 },
 "nbformat": 4,
 "nbformat_minor": 2
}
